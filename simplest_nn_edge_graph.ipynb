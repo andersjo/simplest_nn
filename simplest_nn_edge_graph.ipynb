{
 "cells": [
  {
   "cell_type": "code",
   "execution_count": 81,
   "metadata": {
    "collapsed": true
   },
   "outputs": [],
   "source": [
    "%matplotlib inline\n",
    "import networkx as nx\n",
    "import math\n",
    "import random\n",
    "from collections import defaultdict"
   ]
  },
  {
   "cell_type": "code",
   "execution_count": 51,
   "metadata": {
    "collapsed": false
   },
   "outputs": [],
   "source": [
    "\n",
    "\n",
    "# dataset\n",
    "X = [[0, 0],\n",
    "     [0, 1],\n",
    "     [1, 0], \n",
    "     [1, 1]]\n",
    "y = [0, 1, 1, 0]\n",
    "\n",
    "class Node:\n",
    "\n",
    "    def __init__(self, name, activator, G):\n",
    "        self.name = name\n",
    "        self.activator = activator\n",
    "        self.weights = None\n",
    "        self.value = 0\n",
    "        self.gradients = []\n",
    "        self.grad = 0\n",
    "        pass\n",
    "\n",
    "    def forward(self, parents):\n",
    "        if self.weights is None:\n",
    "            self.weights = [random.random() for _ in range(len(parents))]\n",
    "            self.gradients = [0 for _ in range(len(parents))]\n",
    "        \n",
    "        before_activation = sum([self.weights[i] * parents[i].value \n",
    "                                 for i in range(len(parents))])\n",
    "        self.value = self.activator(before_activation)\n",
    "    \n",
    "    def backward(self, parents):\n",
    "        print(\"Backward\", self.name, \"with\", parents)\n",
    "        # Sum over the grad for the \n",
    "        sum_of_incoming_grad = sum([parent.grad for parent in parents])\n",
    "        for i in range(len(self.weights)):\n",
    "            self.gradients[i] = sum_of_incoming_grad * self.activator.gradient(self.weights[i])\n",
    "\n",
    "        print(\"Computed\", self.gradients)\n",
    "        self.grad = sum(self.gradients)\n",
    "        \n",
    "    \n",
    "    def __str__(self):\n",
    "        return self.name\n",
    "    \n",
    "    def __repr__(self):\n",
    "        return \"{}={}\".format(self.name, self.value)\n",
    "    \n",
    "    def __hash__(self):\n",
    "        return hash(self.name)\n",
    "    \n",
    "    def __eq__(self, other):\n",
    "        return self.name == other.name\n",
    "\n",
    "class Activation:\n",
    "    \n",
    "    pass\n",
    "\n",
    "class Sigmoid(Activation):\n",
    "    def __call__(self, values):\n",
    "        return 1 / (1 + math.exp(-sum(values)))\n",
    "                \n",
    "    \n",
    "    def gradient(self, weight):\n",
    "        return self(weight) * (1 - self(weight))\n",
    "    \n",
    "\n",
    "class Identity(Activation):\n",
    "    def __call__(self, values):\n",
    "        return values\n",
    "    \n",
    "    def gradient(self, weight):\n",
    "        return 1.0"
   ]
  },
  {
   "cell_type": "markdown",
   "metadata": {},
   "source": [
    "Create the architecture"
   ]
  },
  {
   "cell_type": "code",
   "execution_count": 79,
   "metadata": {
    "collapsed": false
   },
   "outputs": [],
   "source": [
    "G = nx.DiGraph()\n",
    "\n",
    "# Input nodes\n",
    "d_input = len(X[0])\n",
    "\n",
    "input_nodes = []\n",
    "for i in range(d_input):\n",
    "    input_node = \"x\" + str(i)\n",
    "    input_nodes.append(input_node)\n",
    "    G.add_node(input_node, activator=Identity())\n",
    "\n",
    "# Intermediate layer\n",
    "for i in range(3):\n",
    "    hidden_node = \"h\" + str(i)\n",
    "    G.add_node(hidden_node, activator=Sigmoid())\n",
    "    for input_node in input_nodes:\n",
    "        G.add_edge(input_node, hidden_node, w=random.random()*0.01)\n",
    "\n",
    "# Final layer\n",
    "output_node = \"y\"\n",
    "G.add_node(output_node, activator=Sigmoid())\n",
    "for n in G.nodes():\n",
    "    if n.startswith(\"h\"):\n",
    "        G.add_edge(n, output_node, w=0)"
   ]
  },
  {
   "cell_type": "code",
   "execution_count": 102,
   "metadata": {
    "collapsed": true
   },
   "outputs": [],
   "source": [
    "weights = defaultdict(lambda: random.random() * 0.01)\n",
    "gradients = {}\n"
   ]
  },
  {
   "cell_type": "markdown",
   "metadata": {},
   "source": [
    "The backward pass calculates the gradients of each weights with respect to the total function that the neural network represents.\n",
    "\n",
    "This can be thought of as finding, for each weight, a linear approximation of the NN function, while keeping all of the other parameters fixed. Let $NN(\\mathbf{x}, \\mathbf{W})$ be function computed by the neural network, $w$ a specific weight in the network, $m = \\frac{\\partial NN}{\\partial w}$\n",
    "\n",
    "$$g(w) = NN(\\mathbf{x}, \\mathbf{W}) + m(w - a)$$"
   ]
  },
  {
   "cell_type": "code",
   "execution_count": null,
   "metadata": {
    "collapsed": true
   },
   "outputs": [],
   "source": [
    "gradients = defaultdict(lambda: np.zeros(1))\n",
    "\n",
    "\n",
    "\n",
    "\n",
    "def backward(v):\n",
    "    # We're filling in all the gradients associated with a node in the \n",
    "    # neural network. These are \n",
    "    # - gradients for each of the weights on the incoming edges.\n",
    "    # - how much influence this node has on the NN function.\n",
    "    \n",
    "    \n",
    "    parents = G[v].edges()\n",
    "    \n",
    "    # Current node influence (sum of gradients )\n",
    "    node_influence = sum([G.node[parent].get('grad', 0) for parent in parents])\n",
    "    \n",
    "    \n",
    "    # Update gradients for weights\n",
    "    \n",
    "    \n",
    "    \n",
    "    \n",
    "    G.predecessors(v)"
   ]
  },
  {
   "cell_type": "code",
   "execution_count": null,
   "metadata": {
    "collapsed": true
   },
   "outputs": [],
   "source": []
  },
  {
   "cell_type": "code",
   "execution_count": 89,
   "metadata": {
    "collapsed": false
   },
   "outputs": [
    {
     "name": "stdout",
     "output_type": "stream",
     "text": [
      "{'value': 0.5012460516246513, 'activator': <__main__.Sigmoid object at 0x108d770f0>}\n",
      "Is tree False\n",
      "{'value': 0.5012503477195154, 'activator': <__main__.Sigmoid object at 0x108d770f0>}\n",
      "Is tree False\n",
      "{'value': 0.5012489865922255, 'activator': <__main__.Sigmoid object at 0x108d770f0>}\n",
      "Is tree False\n",
      "{'value': 0.5012532826200476, 'activator': <__main__.Sigmoid object at 0x108d770f0>}\n",
      "Is tree False\n"
     ]
    }
   ],
   "source": [
    "\n",
    "def forward(v):\n",
    "    inputs = [G.node[u]['value'] * weights[(u, v)] \n",
    "              for u in G.predecessors(v)]\n",
    "    if inputs:\n",
    "        v_attr = G.node[v]\n",
    "        activation = v_attr['activator'](inputs)\n",
    "        v_attr['value'] = activation\n",
    "        \n",
    "\n",
    "\n",
    "for x in X:\n",
    "    # Initialize values of the input nodes and do the forward computation\n",
    "    for i, input_node in enumerate(input_nodes):\n",
    "        G.node[input_node]['value'] = x[i]\n",
    "        \n",
    "    for n in nx.topological_sort(G):\n",
    "        forward(n)\n",
    "            \n",
    "    print(G.node['y'])\n",
    "\n",
    "    # Backward pass\n",
    "    for n in nx.topological_sort(G, reverse=True):\n",
    "        if not n.startswith(\"x\"):\n",
    "            G[n].keys()\n",
    "        \n",
    "        #if n not in input_nodes:\n",
    "            #preds = G_rev.predecessors(n)\n",
    "            #print(type(preds), preds)\n",
    "            #n.backward(preds)\n",
    "\n",
    "            \n",
    "    \n",
    "    \n",
    "    \n",
    "    \n",
    "\n"
   ]
  },
  {
   "cell_type": "code",
   "execution_count": 91,
   "metadata": {
    "collapsed": false
   },
   "outputs": [
    {
     "data": {
      "image/png": "[encoded data removed]",
      "text/plain": [
       "<matplotlib.figure.Figure at 0x108daa9b0>"
      ]
     },
     "metadata": {},
     "output_type": "display_data"
    }
   ],
   "source": []
  },
  {
   "cell_type": "code",
   "execution_count": null,
   "metadata": {
    "collapsed": true
   },
   "outputs": [],
   "source": [
    "import random"
   ]
  },
  {
   "cell_type": "code",
   "execution_count": 78,
   "metadata": {
    "collapsed": false
   },
   "outputs": [
    {
     "data": {
      "text/plain": [
       "[('x0', {'activator': <__main__.Identity at 0x108fccac8>}),\n",
       " ('x1', {'activator': <__main__.Identity at 0x108fccbe0>})]"
      ]
     },
     "execution_count": 78,
     "metadata": {},
     "output_type": "execute_result"
    }
   ],
   "source": [
    "[(u, G.node[u]) for u, _, edge in G.in_edges('h1', data=True)]"
   ]
  },
  {
   "cell_type": "code",
   "execution_count": 100,
   "metadata": {
    "collapsed": false
   },
   "outputs": [
    {
     "data": {
      "text/plain": [
       "dict_keys(['h1', 'h2', 'h0'])"
      ]
     },
     "execution_count": 100,
     "metadata": {},
     "output_type": "execute_result"
    }
   ],
   "source": [
    "G['x1'].keys()"
   ]
  },
  {
   "cell_type": "code",
   "execution_count": 94,
   "metadata": {
    "collapsed": false
   },
   "outputs": [
    {
     "data": {
      "text/plain": [
       "['y', 'h0', 'h2', 'h1', 'x0', 'x1']"
      ]
     },
     "execution_count": 94,
     "metadata": {},
     "output_type": "execute_result"
    }
   ],
   "source": [
    "nx.topological_sort(G, reverse=True)"
   ]
  },
  {
   "cell_type": "code",
   "execution_count": 101,
   "metadata": {
    "collapsed": false
   },
   "outputs": [
    {
     "data": {
      "text/plain": [
       "[]"
      ]
     },
     "execution_count": 101,
     "metadata": {},
     "output_type": "execute_result"
    }
   ],
   "source": [
    "G.predecessors('x0')"
   ]
  },
  {
   "cell_type": "code",
   "execution_count": null,
   "metadata": {
    "collapsed": true
   },
   "outputs": [],
   "source": []
  }
 ],
 "metadata": {
  "kernelspec": {
   "display_name": "Python 3",
   "language": "python",
   "name": "python3"
  },
  "language_info": {
   "codemirror_mode": {
    "name": "ipython",
    "version": 3
   },
   "file_extension": ".py",
   "mimetype": "text/x-python",
   "name": "python",
   "nbconvert_exporter": "python",
   "pygments_lexer": "ipython3",
   "version": "3.4.3"
  }
 },
 "nbformat": 4,
 "nbformat_minor": 0
}
