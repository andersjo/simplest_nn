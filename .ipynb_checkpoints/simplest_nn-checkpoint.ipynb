{
 "cells": [
  {
   "cell_type": "code",
   "execution_count": null,
   "metadata": {
    "collapsed": true
   },
   "outputs": [],
   "source": [
    "import networkx as nx\n",
    "import math\n",
    "\n",
    "# dataset\n",
    "x = [[0, 0],\n",
    "     [0, 1],\n",
    "     [1, 0], \n",
    "     [1, 1]]\n",
    "y = [0, 1, 1, 0]\n",
    "\n",
    "class Node:\n",
    "\n",
    "    def __init__(self, activator):\n",
    "        self.activator = activator\n",
    "        self.weights = None\n",
    "        self.value = 0\n",
    "        pass\n",
    "\n",
    "    def forward(self, parents):\n",
    "        if self.weights is None:\n",
    "            # FIXME Initialize with small random numbers\n",
    "            self.weights = [0] * len(parents)\n",
    "        \n",
    "        before_activation = sum([self.weights[i] * parents[i].value \n",
    "                                 for i in range(len(parents))])\n",
    "        self.value = self.activator(before_activation)\n",
    "        return self.value\n",
    "    \n",
    "    def backward(self, children):\n",
    "        pass\n",
    "\n",
    "class Activation:\n",
    "    \n",
    "    pass\n",
    "\n",
    "class Sigmoid(Activation):\n",
    "    def __call__(self, value):\n",
    "        return 1 / (1 + math.exp(-value))\n"
   ]
  }
 ],
 "metadata": {
  "kernelspec": {
   "display_name": "Python 3",
   "language": "python",
   "name": "python3"
  },
  "language_info": {
   "codemirror_mode": {
    "name": "ipython",
    "version": 3
   },
   "file_extension": ".py",
   "mimetype": "text/x-python",
   "name": "python",
   "nbconvert_exporter": "python",
   "pygments_lexer": "ipython3",
   "version": "3.4.3"
  }
 },
 "nbformat": 4,
 "nbformat_minor": 0
}
