{
 "cells": [
  {
   "cell_type": "code",
   "execution_count": 1,
   "metadata": {
    "collapsed": true
   },
   "outputs": [],
   "source": [
    "%matplotlib inline\n",
    "import networkx as nx\n",
    "import math\n",
    "import random"
   ]
  },
  {
   "cell_type": "code",
   "execution_count": 2,
   "metadata": {
    "collapsed": true
   },
   "outputs": [],
   "source": [
    "\n",
    "\n",
    "# dataset\n",
    "X = [[0, 0],\n",
    "     [0, 1],\n",
    "     [1, 0], \n",
    "     [1, 1]]\n",
    "y = [0, 1, 1, 0]\n",
    "\n",
    "class Node:\n",
    "\n",
    "    def __init__(self, name, activator, G):\n",
    "        self.name = name\n",
    "        self.activator = activator\n",
    "        self.weights = None\n",
    "        self.value = 0\n",
    "        self.gradients = []\n",
    "        self.grad = 0\n",
    "        pass\n",
    "\n",
    "    def forward(self, parents):\n",
    "        if self.weights is None:\n",
    "            self.weights = [random.random() for _ in range(len(parents))]\n",
    "            self.gradients = [0 for _ in range(len(parents))]\n",
    "        \n",
    "        before_activation = sum([self.weights[i] * parents[i].value \n",
    "                                 for i in range(len(parents))])\n",
    "        self.value = self.activator(before_activation)\n",
    "    \n",
    "    def backward(self, parents):\n",
    "        print(\"Backward\", self.name, \"with\", parents)\n",
    "        # Sum over the grad for the \n",
    "        sum_of_incoming_grad = sum([parent.grad for parent in parents])\n",
    "        for i in range(len(self.weights)):\n",
    "            self.gradients[i] = sum_of_incoming_grad * self.activator.gradient(self.weights[i])\n",
    "\n",
    "        print(\"Computed\", self.gradients)\n",
    "        self.grad = sum(self.gradients)\n",
    "        \n",
    "    \n",
    "    def __str__(self):\n",
    "        return self.name\n",
    "    \n",
    "    def __repr__(self):\n",
    "        return \"{}={}\".format(self.name, self.value)\n",
    "    \n",
    "    def __hash__(self):\n",
    "        return hash(self.name)\n",
    "    \n",
    "    def __eq__(self, other):\n",
    "        return self.name == other.name\n",
    "\n",
    "class Activation:\n",
    "    \n",
    "    pass\n",
    "\n",
    "class Sigmoid(Activation):\n",
    "    def __call__(self, value):\n",
    "        return 1 / (1 + math.exp(-value))\n",
    "    \n",
    "    def gradient(self, weight):\n",
    "        return self(weight) * (1 - self(weight))\n",
    "    \n",
    "\n",
    "class Identity(Activation):\n",
    "    def __call__(self, value):\n",
    "        return value\n",
    "    \n",
    "    def gradient(self, weight):\n",
    "        return 1.0"
   ]
  },
  {
   "cell_type": "markdown",
   "metadata": {},
   "source": [
    "Create the architecture"
   ]
  },
  {
   "cell_type": "code",
   "execution_count": 3,
   "metadata": {
    "collapsed": false
   },
   "outputs": [],
   "source": [
    "G = nx.DiGraph()\n",
    "\n",
    "# Input nodes\n",
    "d_input = len(X[0])\n",
    "\n",
    "input_nodes = []\n",
    "for i in range(d_input):\n",
    "    input_node = Node(\"x\" + str(i), Identity(), G)\n",
    "    input_nodes.append(input_node)\n",
    "    G.add_node(input_node)\n",
    "\n",
    "# Intermediate layer\n",
    "for i in range(3):\n",
    "    hidden_node = Node(\"h\" + str(i), Sigmoid(), G)\n",
    "    for input_node in input_nodes:\n",
    "        G.add_edge(input_node, hidden_node)\n",
    "\n",
    "# Final layer\n",
    "output_node = Node(\"y\", Sigmoid(), G)\n",
    "for n in G.nodes():\n",
    "    if n.name.startswith(\"h\"):\n",
    "        G.add_edge(n, output_node)\n"
   ]
  },
  {
   "cell_type": "code",
   "execution_count": 4,
   "metadata": {
    "collapsed": false
   },
   "outputs": [
    {
     "data": {
      "image/png": "[encoded data removed]",
      "text/plain": [
       "<matplotlib.figure.Figure at 0x1079ce5f8>"
      ]
     },
     "metadata": {},
     "output_type": "display_data"
    }
   ],
   "source": [
    "nx.draw_networkx(G)"
   ]
  },
  {
   "cell_type": "code",
   "execution_count": 5,
   "metadata": {
    "collapsed": false
   },
   "outputs": [
    {
     "name": "stdout",
     "output_type": "stream",
     "text": [
      "0.6389718053526907\n",
      "Backward y with []\n",
      "Computed [0.0, 0.0, 0.0]\n",
      "Backward h2 with [y=0.6389718053526907]\n",
      "Computed [0.0, 0.0]\n",
      "Backward h0 with [y=0.6389718053526907]\n",
      "Computed [0.0, 0.0]\n",
      "Backward h1 with [y=0.6389718053526907]\n",
      "Computed [0.0, 0.0]\n",
      "0.6461951733845429\n",
      "Backward y with []\n",
      "Computed [0.0, 0.0, 0.0]\n",
      "Backward h2 with [y=0.6461951733845429]\n",
      "Computed [0.0, 0.0]\n",
      "Backward h0 with [y=0.6461951733845429]\n",
      "Computed [0.0, 0.0]\n",
      "Backward h1 with [y=0.6461951733845429]\n",
      "Computed [0.0, 0.0]\n",
      "0.6435591671493279\n",
      "Backward y with []\n",
      "Computed [0.0, 0.0, 0.0]\n",
      "Backward h2 with [y=0.6435591671493279]\n",
      "Computed [0.0, 0.0]\n",
      "Backward h0 with [y=0.6435591671493279]\n",
      "Computed [0.0, 0.0]\n",
      "Backward h1 with [y=0.6435591671493279]\n",
      "Computed [0.0, 0.0]\n",
      "0.6505116225493578\n",
      "Backward y with []\n",
      "Computed [0.0, 0.0, 0.0]\n",
      "Backward h2 with [y=0.6505116225493578]\n",
      "Computed [0.0, 0.0]\n",
      "Backward h0 with [y=0.6505116225493578]\n",
      "Computed [0.0, 0.0]\n",
      "Backward h1 with [y=0.6505116225493578]\n",
      "Computed [0.0, 0.0]\n"
     ]
    }
   ],
   "source": [
    "\n",
    "for x in X:\n",
    "    # Initialize values of the input nodes and do the forward computation\n",
    "    for i, input_node in enumerate(input_nodes):\n",
    "        input_node.value = x[i]\n",
    "        \n",
    "    for n in nx.topological_sort(G):\n",
    "        if n not in input_nodes:\n",
    "            preds = G.predecessors(n)\n",
    "            #print(type(preds), preds)\n",
    "            n.forward(preds)\n",
    "        \n",
    "    print(output_node.value)\n",
    "    \n",
    "    # Backward pass\n",
    "    G_rev = nx.reverse(G)\n",
    "    for n in nx.topological_sort(G_rev):\n",
    "        if n not in input_nodes:\n",
    "            preds = G_rev.predecessors(n)\n",
    "            #print(type(preds), preds)\n",
    "            n.backward(preds)\n",
    "\n",
    "            \n",
    "    \n",
    "    \n",
    "    \n",
    "    \n",
    "\n"
   ]
  },
  {
   "cell_type": "code",
   "execution_count": 6,
   "metadata": {
    "collapsed": true
   },
   "outputs": [],
   "source": [
    "import random"
   ]
  },
  {
   "cell_type": "code",
   "execution_count": null,
   "metadata": {
    "collapsed": false
   },
   "outputs": [],
   "source": []
  },
  {
   "cell_type": "code",
   "execution_count": null,
   "metadata": {
    "collapsed": true
   },
   "outputs": [],
   "source": []
  }
 ],
 "metadata": {
  "kernelspec": {
   "display_name": "Python 3",
   "language": "python",
   "name": "python3"
  },
  "language_info": {
   "codemirror_mode": {
    "name": "ipython",
    "version": 3
   },
   "file_extension": ".py",
   "mimetype": "text/x-python",
   "name": "python",
   "nbconvert_exporter": "python",
   "pygments_lexer": "ipython3",
   "version": "3.4.3"
  }
 },
 "nbformat": 4,
 "nbformat_minor": 0
}
