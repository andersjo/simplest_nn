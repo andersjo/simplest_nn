{
 "cells": [
  {
   "cell_type": "markdown",
   "metadata": {},
   "source": [
    "# Neural network general\n",
    "\n",
    "\n",
    "Two perspectives on neural network representation. \n",
    "\n",
    "- Scalar-centered, in which single weights and units have their own nodes\n",
    "- Vector-centered, which groups weights that we treat in the same way in the network.\n",
    "\n",
    "For illustration purposes, neural networks are often depicted in their scalar form, but implemented using vectors. For large networks the vector representation has some advantages \n",
    "\n",
    " "
   ]
  },
  {
   "cell_type": "markdown",
   "metadata": {},
   "source": [
    "Feed-forward neural networks could be alternately named *sequential non-linear vector projections*.\n"
   ]
  },
  {
   "cell_type": "markdown",
   "metadata": {},
   "source": [
    "## The purpose of non-linearities"
   ]
  },
  {
   "cell_type": "markdown",
   "metadata": {},
   "source": [
    "## Forward pass"
   ]
  },
  {
   "cell_type": "markdown",
   "metadata": {},
   "source": [
    "$$\n",
    "r_0 = g_r(x_0 W_{x_0, r_0} + x_1 W_{x_1, r_0})\\\\\n",
    "r_1 = g_r(x_0 W_{x_0, r_1} + x_1 W_{x_1, r_1})\\\\\n",
    "s_0 = g_s(r_0 W_{r_0, s_0} + r_1 W_{r_1, s_0})\\\\\n",
    "s_1 = g_s(r_0 W_{r_0, s_1} + r_1 W_{r_1, s_1})\\\\\n",
    "y = g_y(s_0 W_{s_0, y} + s_1 W_{s_1, y})\n",
    "$$\n",
    "$$\n",
    "\\begin{align}\n",
    "y = g_y\\Big(& g_s\\big(g_r(x_0 W_{x_0, r_0} + x_1 W_{x_1, r_0}) W_{r_0, s_0} + g_r(x_0 W_{x_0, r_1} + x_1 W_{x_1, r_1}) W_{r_1, s_0}\\big) W_{s_0, y} +\\\\& g_s\\big(g_r(x_0 W_{x_0, r_0} + x_1 W_{x_1, r_0}) W_{r_0, s_1} + g_r(x_0 W_{x_0, r_1} + x_1 W_{x_1, r_1}) W_{r_1, s_1}\\big) W_{s_1, y}\\Big)\n",
    "\\end{align}\n",
    "$$\n",
    "\n",
    "$$\n",
    "\\begin{align}\n",
    "y = g_y \\Big(& g_s \\big( \\color{blue}{g_r(x_0 W_{x_0, r_0} + x_1 W_{x_1, r_0})} W_{r_0, s_0} + \\color{blue}{g_r(x_0 W_{x_0, r_1} + x_1 W_{x_1, r_1})} W_{r_1, s_0} \\big) W_{s_0, y} +\\\\& g_s \\big( \\color{blue}{g_r(x_0 W_{x_0, r_0} + x_1 W_{x_1, r_0})} W_{r_0, s_1} + \\color{blue}{g_r(x_0 W_{x_0, r_1} + x_1 W_{x_1, r_1})} W_{r_1, s_1} \\big) W_{s_1, y} \\Big)\n",
    "\\end{align}\n",
    "$$"
   ]
  },
  {
   "cell_type": "markdown",
   "metadata": {},
   "source": [
    "## Backward pass\n"
   ]
  },
  {
   "cell_type": "markdown",
   "metadata": {
    "collapsed": true
   },
   "source": []
  },
  {
   "cell_type": "markdown",
   "metadata": {},
   "source": []
  },
  {
   "cell_type": "markdown",
   "metadata": {},
   "source": [
    "$$\n",
    "\\begin{align}\n",
    "%\\frac{\\partial f}{\\partial w(s_0 \\to y)} = & f'(s_0 \\to y)\\\\\n",
    "%\\frac{\\partial f}{\\partial w(s_1 \\to y)} = & f'(s_1 \\to y)\\\\\n",
    "\\frac{\\partial f}{\\partial (r_0 \\to s_0)} = & \\frac{\\partial f}{\\partial (s_0 \\to y)} + r_0 \\frac{\\partial g_s}{\\partial (r_0 \\to s_0)}\\\\\n",
    "\\frac{\\partial f}{\\partial (r_0 \\to s_1)} = & \\frac{\\partial f}{\\partial (s_1 \\to y)} + r_0 \\frac{\\partial g_s}{\\partial (r_0 \\to s_1)}\\\\\n",
    "\\frac{\\partial f}{\\partial (r_1 \\to s_0)} = & \\frac{\\partial f}{\\partial (s_0 \\to y)} + r_0 \\frac{\\partial g_s}{\\partial (r_1 \\to s_0)}\\\\\n",
    "\\frac{\\partial f}{\\partial (r_1 \\to s_1)} = & \\frac{\\partial f}{\\partial (s_0 \\to y)} + r_0 \\frac{\\partial g_s}{\\partial (r_1 \\to s_1)}\\\\\n",
    "\\frac{\\partial f}{\\partial (x_0 \\to r_0)} = & x_0 \\frac{\\partial g_r}{\\partial (x_0 \\to r_0)} \\Bigg( \\color{blue}{\\Big( \\frac{\\partial f}{\\partial (s_0 \\to y)} + r_0 \\frac{\\partial g_s}{\\partial (r_0 \\to s_0)} \\Big)} + \\color{blue}{\\Big( \\frac{\\partial f}{\\partial (s_1 \\to y)} + r_0 \\frac{\\partial g_s}{\\partial (r_0 \\to s_1)} \\Big)} \\Bigg)\\\\\n",
    "\\frac{\\partial f}{\\partial (x_0 \\to r_1)} = & x_0 \\frac{\\partial g_r}{\\partial (x_0 \\to r_1)} \\Bigg( \\color{blue}{\\Big( \\frac{\\partial f}{\\partial (s_0 \\to y)} + r_1 \\frac{\\partial g_s}{\\partial (r_1 \\to s_0)} \\Big)} + \\color{blue}{\\Big( \\frac{\\partial f}{\\partial (s_1 \\to y)} + r_1 \\frac{\\partial g_s}{\\partial (r_1 \\to s_1)} \\Big)} \\Bigg)\\\\\n",
    "\\frac{\\partial f}{\\partial (x_1 \\to r_0)} = & x_1 \\frac{\\partial g_r}{\\partial (x_1 \\to r_0)} \\Bigg( \\color{blue}{\\Big( \\frac{\\partial f}{\\partial (s_0 \\to y)} + r_0 \\frac{\\partial g_s}{\\partial (r_0 \\to s_0)} \\Big)} + \\color{blue}{\\Big( \\frac{\\partial f}{\\partial (s_1 \\to y)} + r_0 \\frac{\\partial g_s}{\\partial (r_0 \\to s_1)} \\Big)} \\Bigg)\\\\\n",
    "\\frac{\\partial f}{\\partial (x_1 \\to r_1)} = & x_1 \\frac{\\partial g_r}{\\partial (x_1 \\to r_1)} \\Bigg( \\color{blue}{\\Big( \\frac{\\partial f}{\\partial (s_0 \\to y)} + r_1 \\frac{\\partial g_s}{\\partial (r_1 \\to s_0)} \\Big)} + \\color{blue}{\\Big( \\frac{\\partial f}{\\partial (s_1 \\to y)} + r_1 \\frac{\\partial g_s}{\\partial (r_1 \\to s_1)} \\Big)} \\Bigg)\\\\\n",
    "\\end{align}\n",
    "$$"
   ]
  },
  {
   "cell_type": "code",
   "execution_count": null,
   "metadata": {
    "collapsed": true
   },
   "outputs": [],
   "source": []
  }
 ],
 "metadata": {
  "kernelspec": {
   "display_name": "Python 3",
   "language": "python",
   "name": "python3"
  },
  "language_info": {
   "codemirror_mode": {
    "name": "ipython",
    "version": 3
   },
   "file_extension": ".py",
   "mimetype": "text/x-python",
   "name": "python",
   "nbconvert_exporter": "python",
   "pygments_lexer": "ipython3",
   "version": "3.4.3"
  }
 },
 "nbformat": 4,
 "nbformat_minor": 0
}
